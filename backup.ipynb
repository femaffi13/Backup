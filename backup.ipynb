{
 "cells": [
  {
   "cell_type": "code",
   "execution_count": 16,
   "metadata": {},
   "outputs": [],
   "source": [
    "import shutil\n",
    "\n",
    "carpeta = 'ScoreCard - github'\n",
    "origen = f'C:/Users/fmaffi/Desktop/{carpeta}'\n",
    "destino = f'M:/FEDERICO/{carpeta}'\n",
    "\n",
    "try:\n",
    "    shutil.copytree(origen, destino)\n",
    "except:\n",
    "    shutil.copytree(origen, destino, dirs_exist_ok=True)"
   ]
  }
 ],
 "metadata": {
  "kernelspec": {
   "display_name": "Python 3",
   "language": "python",
   "name": "python3"
  },
  "language_info": {
   "codemirror_mode": {
    "name": "ipython",
    "version": 3
   },
   "file_extension": ".py",
   "mimetype": "text/x-python",
   "name": "python",
   "nbconvert_exporter": "python",
   "pygments_lexer": "ipython3",
   "version": "3.10.5 (tags/v3.10.5:f377153, Jun  6 2022, 16:14:13) [MSC v.1929 64 bit (AMD64)]"
  },
  "orig_nbformat": 4,
  "vscode": {
   "interpreter": {
    "hash": "6ee10d5a94323f275e5d9aabe383f651e0207d37fb57c0f216d6b1c1a4073c8b"
   }
  }
 },
 "nbformat": 4,
 "nbformat_minor": 2
}
